{
 "cells": [
  {
   "cell_type": "markdown",
   "id": "1876cec3",
   "metadata": {},
   "source": [
    "Data Preparation and Cleaning\n",
    "Here we will read the data from the CSV file and clean the data as per our purposes. \n",
    "We will drop the NaN values and split the dataset into movies and TV Shows datasets."
   ]
  },
  {
   "cell_type": "code",
   "execution_count": 1,
   "id": "5f1fcf81",
   "metadata": {},
   "outputs": [],
   "source": [
    "import pandas as pd\n",
    "netflix_df = pd.read_csv('Netflix_Data.csv')"
   ]
  },
  {
   "cell_type": "code",
   "execution_count": 2,
   "id": "2efa9989",
   "metadata": {},
   "outputs": [
    {
     "data": {
      "text/html": [
       "<div>\n",
       "<style scoped>\n",
       "    .dataframe tbody tr th:only-of-type {\n",
       "        vertical-align: middle;\n",
       "    }\n",
       "\n",
       "    .dataframe tbody tr th {\n",
       "        vertical-align: top;\n",
       "    }\n",
       "\n",
       "    .dataframe thead th {\n",
       "        text-align: right;\n",
       "    }\n",
       "</style>\n",
       "<table border=\"1\" class=\"dataframe\">\n",
       "  <thead>\n",
       "    <tr style=\"text-align: right;\">\n",
       "      <th></th>\n",
       "      <th>show_id</th>\n",
       "      <th>type</th>\n",
       "      <th>title</th>\n",
       "      <th>director</th>\n",
       "      <th>cast</th>\n",
       "      <th>country</th>\n",
       "      <th>date_added</th>\n",
       "      <th>release_year</th>\n",
       "      <th>rating</th>\n",
       "      <th>duration</th>\n",
       "      <th>listed_in</th>\n",
       "      <th>description</th>\n",
       "    </tr>\n",
       "  </thead>\n",
       "  <tbody>\n",
       "    <tr>\n",
       "      <th>0</th>\n",
       "      <td>s1</td>\n",
       "      <td>Movie</td>\n",
       "      <td>Dick Johnson Is Dead</td>\n",
       "      <td>Kirsten Johnson</td>\n",
       "      <td>NaN</td>\n",
       "      <td>United States</td>\n",
       "      <td>September 25, 2021</td>\n",
       "      <td>2020</td>\n",
       "      <td>PG-13</td>\n",
       "      <td>90 min</td>\n",
       "      <td>Documentaries</td>\n",
       "      <td>As her father nears the end of his life, filmm...</td>\n",
       "    </tr>\n",
       "    <tr>\n",
       "      <th>1</th>\n",
       "      <td>s2</td>\n",
       "      <td>TV Show</td>\n",
       "      <td>Blood &amp; Water</td>\n",
       "      <td>NaN</td>\n",
       "      <td>Ama Qamata, Khosi Ngema, Gail Mabalane, Thaban...</td>\n",
       "      <td>South Africa</td>\n",
       "      <td>September 24, 2021</td>\n",
       "      <td>2021</td>\n",
       "      <td>TV-MA</td>\n",
       "      <td>2 Seasons</td>\n",
       "      <td>International TV Shows, TV Dramas, TV Mysteries</td>\n",
       "      <td>After crossing paths at a party, a Cape Town t...</td>\n",
       "    </tr>\n",
       "    <tr>\n",
       "      <th>2</th>\n",
       "      <td>s3</td>\n",
       "      <td>TV Show</td>\n",
       "      <td>Ganglands</td>\n",
       "      <td>Julien Leclercq</td>\n",
       "      <td>Sami Bouajila, Tracy Gotoas, Samuel Jouy, Nabi...</td>\n",
       "      <td>NaN</td>\n",
       "      <td>September 24, 2021</td>\n",
       "      <td>2021</td>\n",
       "      <td>TV-MA</td>\n",
       "      <td>1 Season</td>\n",
       "      <td>Crime TV Shows, International TV Shows, TV Act...</td>\n",
       "      <td>To protect his family from a powerful drug lor...</td>\n",
       "    </tr>\n",
       "    <tr>\n",
       "      <th>3</th>\n",
       "      <td>s4</td>\n",
       "      <td>TV Show</td>\n",
       "      <td>Jailbirds New Orleans</td>\n",
       "      <td>NaN</td>\n",
       "      <td>NaN</td>\n",
       "      <td>NaN</td>\n",
       "      <td>September 24, 2021</td>\n",
       "      <td>2021</td>\n",
       "      <td>TV-MA</td>\n",
       "      <td>1 Season</td>\n",
       "      <td>Docuseries, Reality TV</td>\n",
       "      <td>Feuds, flirtations and toilet talk go down amo...</td>\n",
       "    </tr>\n",
       "    <tr>\n",
       "      <th>4</th>\n",
       "      <td>s5</td>\n",
       "      <td>TV Show</td>\n",
       "      <td>Kota Factory</td>\n",
       "      <td>NaN</td>\n",
       "      <td>Mayur More, Jitendra Kumar, Ranjan Raj, Alam K...</td>\n",
       "      <td>India</td>\n",
       "      <td>September 24, 2021</td>\n",
       "      <td>2021</td>\n",
       "      <td>TV-MA</td>\n",
       "      <td>2 Seasons</td>\n",
       "      <td>International TV Shows, Romantic TV Shows, TV ...</td>\n",
       "      <td>In a city of coaching centers known to train I...</td>\n",
       "    </tr>\n",
       "  </tbody>\n",
       "</table>\n",
       "</div>"
      ],
      "text/plain": [
       "  show_id     type                  title         director  \\\n",
       "0      s1    Movie   Dick Johnson Is Dead  Kirsten Johnson   \n",
       "1      s2  TV Show          Blood & Water              NaN   \n",
       "2      s3  TV Show              Ganglands  Julien Leclercq   \n",
       "3      s4  TV Show  Jailbirds New Orleans              NaN   \n",
       "4      s5  TV Show           Kota Factory              NaN   \n",
       "\n",
       "                                                cast        country  \\\n",
       "0                                                NaN  United States   \n",
       "1  Ama Qamata, Khosi Ngema, Gail Mabalane, Thaban...   South Africa   \n",
       "2  Sami Bouajila, Tracy Gotoas, Samuel Jouy, Nabi...            NaN   \n",
       "3                                                NaN            NaN   \n",
       "4  Mayur More, Jitendra Kumar, Ranjan Raj, Alam K...          India   \n",
       "\n",
       "           date_added  release_year rating   duration  \\\n",
       "0  September 25, 2021          2020  PG-13     90 min   \n",
       "1  September 24, 2021          2021  TV-MA  2 Seasons   \n",
       "2  September 24, 2021          2021  TV-MA   1 Season   \n",
       "3  September 24, 2021          2021  TV-MA   1 Season   \n",
       "4  September 24, 2021          2021  TV-MA  2 Seasons   \n",
       "\n",
       "                                           listed_in  \\\n",
       "0                                      Documentaries   \n",
       "1    International TV Shows, TV Dramas, TV Mysteries   \n",
       "2  Crime TV Shows, International TV Shows, TV Act...   \n",
       "3                             Docuseries, Reality TV   \n",
       "4  International TV Shows, Romantic TV Shows, TV ...   \n",
       "\n",
       "                                         description  \n",
       "0  As her father nears the end of his life, filmm...  \n",
       "1  After crossing paths at a party, a Cape Town t...  \n",
       "2  To protect his family from a powerful drug lor...  \n",
       "3  Feuds, flirtations and toilet talk go down amo...  \n",
       "4  In a city of coaching centers known to train I...  "
      ]
     },
     "execution_count": 2,
     "metadata": {},
     "output_type": "execute_result"
    }
   ],
   "source": [
    "netflix_df.head(5)"
   ]
  },
  {
   "cell_type": "code",
   "execution_count": 3,
   "id": "f9186be0",
   "metadata": {},
   "outputs": [
    {
     "data": {
      "text/plain": [
       "(8807, 12)"
      ]
     },
     "execution_count": 3,
     "metadata": {},
     "output_type": "execute_result"
    }
   ],
   "source": [
    "netflix_df.shape"
   ]
  },
  {
   "cell_type": "code",
   "execution_count": 4,
   "id": "28724ce0",
   "metadata": {},
   "outputs": [
    {
     "data": {
      "text/plain": [
       "show_id         8807\n",
       "type            8807\n",
       "title           8807\n",
       "director        6173\n",
       "cast            7982\n",
       "country         7976\n",
       "date_added      8797\n",
       "release_year    8807\n",
       "rating          8803\n",
       "duration        8804\n",
       "listed_in       8807\n",
       "description     8807\n",
       "dtype: int64"
      ]
     },
     "execution_count": 4,
     "metadata": {},
     "output_type": "execute_result"
    }
   ],
   "source": [
    "netflix_df.count()"
   ]
  },
  {
   "cell_type": "code",
   "execution_count": 5,
   "id": "45f7500a",
   "metadata": {},
   "outputs": [],
   "source": [
    "netflix_df.dropna(inplace = True)"
   ]
  },
  {
   "cell_type": "code",
   "execution_count": 6,
   "id": "b50cb6e2",
   "metadata": {},
   "outputs": [
    {
     "data": {
      "text/plain": [
       "show_id         5332\n",
       "type            5332\n",
       "title           5332\n",
       "director        5332\n",
       "cast            5332\n",
       "country         5332\n",
       "date_added      5332\n",
       "release_year    5332\n",
       "rating          5332\n",
       "duration        5332\n",
       "listed_in       5332\n",
       "description     5332\n",
       "dtype: int64"
      ]
     },
     "execution_count": 6,
     "metadata": {},
     "output_type": "execute_result"
    }
   ],
   "source": [
    "netflix_df.count()"
   ]
  },
  {
   "cell_type": "code",
   "execution_count": 7,
   "id": "f616d437",
   "metadata": {},
   "outputs": [],
   "source": [
    "netflix_df.date_added = pd.to_datetime(netflix_df.date_added)"
   ]
  },
  {
   "cell_type": "code",
   "execution_count": 8,
   "id": "c0539e03",
   "metadata": {},
   "outputs": [],
   "source": [
    "netflix_shows = netflix_df[netflix_df.type == \"TV Show\"]"
   ]
  },
  {
   "cell_type": "code",
   "execution_count": 9,
   "id": "ec03d382",
   "metadata": {},
   "outputs": [],
   "source": [
    "netflix_movies = netflix_df[netflix_df.type == \"Movie\"]"
   ]
  },
  {
   "cell_type": "markdown",
   "id": "ba362486",
   "metadata": {},
   "source": [
    "Exploratory Analysis and Visualization\n",
    "Here we will do some exploratory analysis. We will check how the dataset is distributed and check the content of the dataset."
   ]
  },
  {
   "cell_type": "code",
   "execution_count": 10,
   "id": "4228979c",
   "metadata": {},
   "outputs": [],
   "source": [
    "import seaborn as sns\n",
    "import matplotlib\n",
    "import matplotlib.pyplot as plt\n"
   ]
  },
  {
   "cell_type": "markdown",
   "id": "ca2bf5b4",
   "metadata": {},
   "source": [
    "Lets check the how many entries for movies and TV shows are there in the dataset."
   ]
  },
  {
   "cell_type": "code",
   "execution_count": 11,
   "id": "87245cfd",
   "metadata": {},
   "outputs": [
    {
     "data": {
      "image/png": "[encoded data removed]",
      "text/plain": [
       "<Figure size 432x288 with 1 Axes>"
      ]
     },
     "metadata": {
      "needs_background": "light"
     },
     "output_type": "display_data"
    }
   ],
   "source": [
    "plt.title(\"Movies v/s TV Shows\")\n",
    "sns.countplot(x= netflix_df.type);"
   ]
  },
  {
   "cell_type": "markdown",
   "id": "fd9e2ebb",
   "metadata": {},
   "source": [
    "Lets check distribution of when the movies were release"
   ]
  },
  {
   "cell_type": "code",
   "execution_count": 12,
   "id": "0659f30c",
   "metadata": {},
   "outputs": [
    {
     "data": {
      "image/png": "[encoded data removed]",
      "text/plain": [
       "<Figure size 432x288 with 1 Axes>"
      ]
     },
     "metadata": {
      "needs_background": "light"
     },
     "output_type": "display_data"
    }
   ],
   "source": [
    "plt.title(\"Release year of Content\")\n",
    "plt.plot(netflix_df.groupby(by = [\"release_year\"]).release_year.count());"
   ]
  },
  {
   "cell_type": "markdown",
   "id": "97777726",
   "metadata": {},
   "source": [
    "Lets check the distribution of the ratings of the movies"
   ]
  },
  {
   "cell_type": "code",
   "execution_count": 13,
   "id": "81190bcc",
   "metadata": {},
   "outputs": [
    {
     "data": {
      "image/png": "[encoded data removed]",
      "text/plain": [
       "<Figure size 432x288 with 1 Axes>"
      ]
     },
     "metadata": {
      "needs_background": "light"
     },
     "output_type": "display_data"
    }
   ],
   "source": [
    "plt.title(\"Ratings of Content\")\n",
    "plt.xticks(rotation=60)\n",
    "sns.countplot(x= netflix_df.rating);"
   ]
  },
  {
   "cell_type": "markdown",
   "id": "e8e9ac43",
   "metadata": {},
   "source": [
    "Lets check the oldest 15 movies from the dataset."
   ]
  },
  {
   "cell_type": "code",
   "execution_count": 14,
   "id": "1e3449d8",
   "metadata": {},
   "outputs": [
    {
     "data": {
      "text/plain": [
       "8205       The Battle of Midway\n",
       "8640           Tunisian Victory\n",
       "7219    Know Your Enemy - Japan\n",
       "7294         Let There Be Light\n",
       "8587                Thunderbolt\n",
       "1699            White Christmas\n",
       "2375            The Blazing Sun\n",
       "7954        Scandal in Sorrento\n",
       "8506          The Sign of Venus\n",
       "7839      Rebel Without a Cause\n",
       "6784           Forbidden Planet\n",
       "2369                Dark Waters\n",
       "6431      Cat on a Hot Tin Roof\n",
       "2368              Cairo Station\n",
       "6853                       Gigi\n",
       "Name: title, dtype: object"
      ]
     },
     "execution_count": 14,
     "metadata": {},
     "output_type": "execute_result"
    }
   ],
   "source": [
    "# 15 oldest movies in the dataset\n",
    "netflix_movies.sort_values(\"release_year\").title.head(15)"
   ]
  },
  {
   "cell_type": "markdown",
   "id": "ee4c7be2",
   "metadata": {},
   "source": [
    "Lets check the 15 oldest TV Shows from the dataset."
   ]
  },
  {
   "cell_type": "code",
   "execution_count": 15,
   "id": "e8679cae",
   "metadata": {},
   "outputs": [
    {
     "data": {
      "text/plain": [
       "7175                             Ken Burns: The Civil War\n",
       "8214     The Blue Planet: A Natural History of the Oceans\n",
       "7748                Planet Earth: The Complete Collection\n",
       "3541                                               Naruto\n",
       "803                           Ouran High School Host Club\n",
       "5096                     Fullmetal Alchemist: Brotherhood\n",
       "6838                                     Geronimo Stilton\n",
       "6810                                        Frozen Planet\n",
       "316                                          Office Girls\n",
       "8293                                             The Fear\n",
       "5674                                               Merlin\n",
       "3614                                           Reply 1997\n",
       "3137                                     Girls und Panzer\n",
       "6371                                     Brave Miss World\n",
       "7648    Oliver Stone's Untold History of the United St...\n",
       "Name: title, dtype: object"
      ]
     },
     "execution_count": 15,
     "metadata": {},
     "output_type": "execute_result"
    }
   ],
   "source": [
    "#15 oldest TV shows in the dataset\n",
    "netflix_shows.sort_values(\"release_year\").title.head(15)"
   ]
  },
  {
   "cell_type": "markdown",
   "id": "1387415a",
   "metadata": {},
   "source": [
    "In this section we will be asking some questions about the dataset and try to answer them from the data available."
   ]
  },
  {
   "cell_type": "markdown",
   "id": "4fa6a545",
   "metadata": {},
   "source": [
    "Q1: Which country has the highest no of movies and TV shows?"
   ]
  },
  {
   "cell_type": "code",
   "execution_count": 16,
   "id": "8451cced",
   "metadata": {},
   "outputs": [
    {
     "data": {
      "image/png": "[encoded data removed]",
      "text/plain": [
       "<Figure size 432x288 with 1 Axes>"
      ]
     },
     "metadata": {
      "needs_background": "light"
     },
     "output_type": "display_data"
    }
   ],
   "source": [
    "plt.title(\"Top 10 Countries with highest no of movies and TV Shows \")\n",
    "plt.xticks(rotation=60)\n",
    "sns.countplot(x = netflix_df.country, order = netflix_df['country'].value_counts().index[0:10]);"
   ]
  },
  {
   "cell_type": "markdown",
   "id": "90492871",
   "metadata": {},
   "source": [
    "From the above chart, we can see that United States is producing the highest number of Movies as well as TV Shows."
   ]
  },
  {
   "cell_type": "markdown",
   "id": "74568a23",
   "metadata": {},
   "source": [
    "Q2: Which month are the most no of movies released?"
   ]
  },
  {
   "cell_type": "code",
   "execution_count": 17,
   "id": "175e985f",
   "metadata": {},
   "outputs": [
    {
     "data": {
      "image/png": "[encoded data removed]",
      "text/plain": [
       "<Figure size 432x288 with 1 Axes>"
      ]
     },
     "metadata": {
      "needs_background": "light"
     },
     "output_type": "display_data"
    }
   ],
   "source": [
    "plt.title(\"Month of movies released\")\n",
    "release_month= netflix_movies.date_added.dt.month\n",
    "sns.countplot(x= release_month);"
   ]
  },
  {
   "cell_type": "markdown",
   "id": "dac9d807",
   "metadata": {},
   "source": [
    "We can see that the highest number of movies are released around the holiday season i.e November, December and January."
   ]
  },
  {
   "cell_type": "markdown",
   "id": "e60da776",
   "metadata": {},
   "source": [
    "Q3: How long is the duration of a average movie?"
   ]
  },
  {
   "cell_type": "code",
   "execution_count": 18,
   "id": "866a271d",
   "metadata": {},
   "outputs": [
    {
     "data": {
      "image/png": "[encoded data removed]",
      "text/plain": [
       "<Figure size 432x288 with 1 Axes>"
      ]
     },
     "metadata": {
      "needs_background": "light"
     },
     "output_type": "display_data"
    }
   ],
   "source": [
    "plt.title(\"Duration of movies\")\n",
    "netflix_movies_duration = netflix_movies[\"duration\"].str.replace(\"min\",\"\")\n",
    "sns.kdeplot(data=netflix_movies_duration.astype(int));"
   ]
  },
  {
   "cell_type": "markdown",
   "id": "32d24547",
   "metadata": {},
   "source": [
    "The average duration of movie is about 90-120 mins. It is acceptable considering the fact that a fair amount of the audience cannot watch a 3 hour movie in one sitting."
   ]
  },
  {
   "cell_type": "markdown",
   "id": "5daf5323",
   "metadata": {},
   "source": [
    "Q4: How many seasons does a average TV show have?"
   ]
  },
  {
   "cell_type": "code",
   "execution_count": 19,
   "id": "295da92d",
   "metadata": {},
   "outputs": [
    {
     "data": {
      "image/png": "[encoded data removed]",
      "text/plain": [
       "<Figure size 432x288 with 1 Axes>"
      ]
     },
     "metadata": {
      "needs_background": "light"
     },
     "output_type": "display_data"
    }
   ],
   "source": [
    "plt.title(\"No of seasons for TV Shows\")\n",
    "netflix_show_duration = netflix_shows[\"duration\"].str.extract('(\\d+)')\n",
    "sns.kdeplot(data=netflix_show_duration.astype(int));"
   ]
  },
  {
   "cell_type": "markdown",
   "id": "cef04992",
   "metadata": {},
   "source": [
    "The average looks to be about 1-2.5 seasons."
   ]
  },
  {
   "cell_type": "markdown",
   "id": "3272461f",
   "metadata": {},
   "source": [
    "Q5: How does India perform in the area of content creation "
   ]
  },
  {
   "cell_type": "code",
   "execution_count": 20,
   "id": "3f38bdf5",
   "metadata": {},
   "outputs": [
    {
     "data": {
      "image/png": "[encoded data removed]",
      "text/plain": [
       "<Figure size 432x288 with 4 Axes>"
      ]
     },
     "metadata": {
      "needs_background": "light"
     },
     "output_type": "display_data"
    }
   ],
   "source": [
    "#making a df for indian content\n",
    "india_content= netflix_df[netflix_df[\"country\"].str.contains('India')]\n",
    "fig, axes = plt.subplots(2, 2)\n",
    "\n",
    "#graph 1\n",
    "axes[0][0].set_title(\"Movies v/s TV Shows\")\n",
    "sns.countplot(x=india_content.type, ax=axes[0,0]);\n",
    "\n",
    "#graph 2\n",
    "axes[0][1].set_title(\"Release of Content\")\n",
    "axes[0][1].plot(india_content.groupby(by = [\"release_year\"]).release_year.count());\n",
    "\n",
    "#graph 3\n",
    "axes[1][0].set_title(\"Months when movies were added\")\n",
    "sns.countplot(x= india_content.date_added.dt.month, ax=axes[1,0]);\n",
    "\n",
    "#graph 4\n",
    "axes[1][1].set_title(\"Duration of movies\")\n",
    "indian_movies = india_content[india_content.type == \"Movie\"]\n",
    "indian_movies_duration = indian_movies[\"duration\"].str.replace(\"min\",\"\")\n",
    "sns.kdeplot(data=indian_movies_duration.astype(int));\n",
    "\n",
    "plt.tight_layout(pad=2);"
   ]
  },
  {
   "cell_type": "markdown",
   "id": "ad0795d5",
   "metadata": {},
   "source": [
    "We can see that India is more into producing movies than TV Shows. The release of new content has picked up pace since the 2000s. India is on par with the world when it comes to the duration of movies."
   ]
  },
  {
   "cell_type": "raw",
   "id": "7908df12",
   "metadata": {},
   "source": [
    "Inferences and Conclusion\n",
    "We can conclude the following from the data analysis\n",
    "\n",
    "1.Netflix has a lot more movies than TV Shows  \n",
    "\n",
    "2.Release of new content is picking up quite a lot of pace in the last few years.\n",
    "\n",
    "3.United States is the highest producer for TV Shows as well as movies.\n",
    "\n",
    "4.Highest number of movies are released around the holiday season i.e November, December and January."
   ]
  }
 ],
 "metadata": {
  "kernelspec": {
   "display_name": "Python 3 (ipykernel)",
   "language": "python",
   "name": "python3"
  },
  "language_info": {
   "codemirror_mode": {
    "name": "ipython",
    "version": 3
   },
   "file_extension": ".py",
   "mimetype": "text/x-python",
   "name": "python",
   "nbconvert_exporter": "python",
   "pygments_lexer": "ipython3",
   "version": "3.9.12"
  }
 },
 "nbformat": 4,
 "nbformat_minor": 5
}
